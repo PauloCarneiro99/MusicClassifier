{
 "cells": [
  {
   "cell_type": "code",
   "execution_count": 1,
   "metadata": {},
   "outputs": [],
   "source": [
    "import pandas as pd\n",
    "import numpy as np\n",
    "from sklearn.feature_extraction.text import CountVectorizer\n",
    "from sklearn.model_selection import StratifiedShuffleSplit, ShuffleSplit\n",
    "from sklearn.naive_bayes import MultinomialNB\n",
    "from sklearn.metrics import classification_report"
   ]
  },
  {
   "cell_type": "code",
   "execution_count": 2,
   "metadata": {},
   "outputs": [
    {
     "data": {
      "text/html": [
       "<div>\n",
       "<style scoped>\n",
       "    .dataframe tbody tr th:only-of-type {\n",
       "        vertical-align: middle;\n",
       "    }\n",
       "\n",
       "    .dataframe tbody tr th {\n",
       "        vertical-align: top;\n",
       "    }\n",
       "\n",
       "    .dataframe thead th {\n",
       "        text-align: right;\n",
       "    }\n",
       "</style>\n",
       "<table border=\"1\" class=\"dataframe\">\n",
       "  <thead>\n",
       "    <tr style=\"text-align: right;\">\n",
       "      <th></th>\n",
       "      <th>author</th>\n",
       "      <th>data</th>\n",
       "      <th>lyrics</th>\n",
       "      <th>style</th>\n",
       "      <th>title</th>\n",
       "    </tr>\n",
       "  </thead>\n",
       "  <tbody>\n",
       "    <tr>\n",
       "      <th>0</th>\n",
       "      <td>Midian Lima</td>\n",
       "      <td>NaN</td>\n",
       "      <td>Amanheceu,Nada pesquei,Parecia ser apenas mais...</td>\n",
       "      <td>eletrônica</td>\n",
       "      <td>Não Pare</td>\n",
       "    </tr>\n",
       "    <tr>\n",
       "      <th>1</th>\n",
       "      <td>MC Doni</td>\n",
       "      <td>NaN</td>\n",
       "      <td>Não adianta tu se declarar,Romance, compromiss...</td>\n",
       "      <td>eletrônica</td>\n",
       "      <td>Te Amo Sem Compromisso (To Nem Aí)</td>\n",
       "    </tr>\n",
       "    <tr>\n",
       "      <th>2</th>\n",
       "      <td>Sebastián Yatra</td>\n",
       "      <td>NaN</td>\n",
       "      <td>I remember when I met you,I didn't wanna fall,...</td>\n",
       "      <td>eletrônica</td>\n",
       "      <td>My Only One (No Hay Nadie Más) (part. Isabela ...</td>\n",
       "    </tr>\n",
       "    <tr>\n",
       "      <th>3</th>\n",
       "      <td>Billie Eilish</td>\n",
       "      <td>NaN</td>\n",
       "      <td>Thought I found a way,Thought I found a way ou...</td>\n",
       "      <td>eletrônica</td>\n",
       "      <td>Lovely (feat. Khalid)</td>\n",
       "    </tr>\n",
       "    <tr>\n",
       "      <th>4</th>\n",
       "      <td>Ed Sheeran</td>\n",
       "      <td>NaN</td>\n",
       "      <td>I found a love for me,Darling, just dive right...</td>\n",
       "      <td>eletrônica</td>\n",
       "      <td>Perfect</td>\n",
       "    </tr>\n",
       "  </tbody>\n",
       "</table>\n",
       "</div>"
      ],
      "text/plain": [
       "            author  data                                             lyrics  \\\n",
       "0      Midian Lima   NaN  Amanheceu,Nada pesquei,Parecia ser apenas mais...   \n",
       "1          MC Doni   NaN  Não adianta tu se declarar,Romance, compromiss...   \n",
       "2  Sebastián Yatra   NaN  I remember when I met you,I didn't wanna fall,...   \n",
       "3    Billie Eilish   NaN  Thought I found a way,Thought I found a way ou...   \n",
       "4       Ed Sheeran   NaN  I found a love for me,Darling, just dive right...   \n",
       "\n",
       "        style                                              title  \n",
       "0  eletrônica                                           Não Pare  \n",
       "1  eletrônica                 Te Amo Sem Compromisso (To Nem Aí)  \n",
       "2  eletrônica  My Only One (No Hay Nadie Más) (part. Isabela ...  \n",
       "3  eletrônica                              Lovely (feat. Khalid)  \n",
       "4  eletrônica                                            Perfect  "
      ]
     },
     "execution_count": 2,
     "metadata": {},
     "output_type": "execute_result"
    }
   ],
   "source": [
    "df = pd.read_csv(\"dataset.csv\")\n",
    "df.head()"
   ]
  },
  {
   "cell_type": "markdown",
   "metadata": {},
   "source": [
    "## Creating a bag of words"
   ]
  },
  {
   "cell_type": "code",
   "execution_count": 3,
   "metadata": {},
   "outputs": [],
   "source": [
    "styles_unique = df[\"style\"].unique()\n",
    "styles = df[\"style\"]\n",
    "\n",
    "\n",
    "bag_of_words = []\n",
    "for author, lyrics, title in zip(df[\"author\"], df[\"lyrics\"], df[\"title\"]):\n",
    "    if author and lyrics and title: #avoiding empty and NaN fields\n",
    "        bag_of_words.append(\"\\n\".join([str(author),str(title),str(lyrics)]))"
   ]
  },
  {
   "cell_type": "markdown",
   "metadata": {},
   "source": [
    "## Pre-processing the data"
   ]
  },
  {
   "cell_type": "code",
   "execution_count": null,
   "metadata": {},
   "outputs": [],
   "source": [
    "pre_processing_pipeline = [\n",
    "    language_handler(), # translate all the terms of the bag of word to a unique language\n",
    "    natural_language_processing(), #remove stop-words, lematization, anagrams ...\n",
    "    word2vec(), #use one pre-trained word2vec embedding to aglomareta synonymous\n",
    "]"
   ]
  },
  {
   "cell_type": "markdown",
   "metadata": {},
   "source": [
    "## Runing Classifiers"
   ]
  },
  {
   "cell_type": "code",
   "execution_count": 4,
   "metadata": {},
   "outputs": [],
   "source": [
    "vectorizer = CountVectorizer(min_df=10, lowercase=True, strip_accents=\"unicode\")\n",
    "vectors = vectorizer.fit_transform(bag_of_words)"
   ]
  },
  {
   "cell_type": "code",
   "execution_count": 5,
   "metadata": {},
   "outputs": [],
   "source": [
    "# spliting data for training and for testing\n",
    "sss = ShuffleSplit(n_splits=1, test_size=0.3)"
   ]
  },
  {
   "cell_type": "code",
   "execution_count": 6,
   "metadata": {},
   "outputs": [
    {
     "name": "stdout",
     "output_type": "stream",
     "text": [
      "              precision    recall  f1-score   support\n",
      "\n",
      " alternativo       0.29      0.01      0.03       302\n",
      "       blues       0.57      0.04      0.07       307\n",
      "      bolero       0.70      0.06      0.12       301\n",
      "       brega       0.38      0.47      0.42       339\n",
      "     country       0.16      0.62      0.25       289\n",
      "    cuarteto       0.27      0.56      0.36       308\n",
      "      cumbia       0.35      0.33      0.34       305\n",
      "       dance       0.31      0.07      0.12       294\n",
      "       disco       0.48      0.05      0.08       305\n",
      "  eletrônica       0.34      0.04      0.06       281\n",
      "     emocore       0.38      0.28      0.32       290\n",
      "        fado       0.64      0.80      0.71       277\n",
      "        folk       0.21      0.08      0.11       297\n",
      "        funk       0.57      0.83      0.68       310\n",
      "      grunge       0.18      0.70      0.29       289\n",
      "    hardcore       0.00      0.00      0.00       316\n",
      "       house       0.44      0.33      0.38       269\n",
      "       indie       0.27      0.14      0.19       290\n",
      "  industrial       0.65      0.35      0.46       322\n",
      "    infantil       0.74      0.25      0.37       299\n",
      "instrumental       0.73      0.26      0.38       315\n",
      "        jazz       0.42      0.34      0.38       298\n",
      "       mambo       0.45      0.04      0.08       293\n",
      "    mariachi       0.63      0.32      0.43       281\n",
      "    merengue       0.38      0.15      0.21       141\n",
      "         mpb       0.24      0.52      0.33       301\n",
      "      pagode       0.25      0.75      0.37       271\n",
      "         pop       0.29      0.16      0.21       244\n",
      "   post-rock       0.51      0.29      0.37       291\n",
      "   power-pop       0.43      0.01      0.02       281\n",
      "  psicodelia       0.63      0.07      0.13       300\n",
      "    ranchera       0.31      0.53      0.39       294\n",
      "      reggae       0.44      0.02      0.05       334\n",
      "   reggaeton       0.61      0.66      0.63       303\n",
      "    regional       0.61      0.71      0.65       308\n",
      "        rock       0.00      0.00      0.00       231\n",
      "  rockabilly       0.39      0.60      0.47       314\n",
      "       salsa       0.47      0.14      0.22       277\n",
      "       samba       0.45      0.51      0.48       290\n",
      "   sertanejo       0.31      0.61      0.41       266\n",
      "         ska       0.49      0.06      0.11       290\n",
      "        soul       0.12      0.56      0.19       294\n",
      "       tango       0.59      0.80      0.68       296\n",
      "    tecnopop       0.26      0.28      0.27       284\n",
      "       trova       0.47      0.64      0.54       304\n",
      "       zamba       0.75      0.62      0.68       297\n",
      "        zouk       0.43      0.17      0.24        70\n",
      "\n",
      "   micro avg       0.34      0.34      0.34     13458\n",
      "   macro avg       0.42      0.34      0.30     13458\n",
      "weighted avg       0.42      0.34      0.31     13458\n",
      "\n",
      "SCORE: 0.34366176252043396\n",
      "----------------------------------------------------------------------------------------------------\n"
     ]
    }
   ],
   "source": [
    "labels = np.array(styles.tolist())\n",
    "for train_index, test_index in sss.split(vectors, labels):\n",
    "    X_train, X_test = vectors[train_index], vectors[test_index]\n",
    "    y_train, y_test = labels[train_index], labels[test_index]\n",
    "\n",
    "    categories = np.unique(labels[test_index]).tolist()\n",
    "    \n",
    "    # instanciamos o classificador\n",
    "    clf = MultinomialNB(alpha=1)\n",
    "    # colocamos os nossos dados de treino\n",
    "    clf.fit(X_train, y_train)\n",
    "    # medimos sua acurácia com os dados de teste\n",
    "    predictions = clf.predict(X_test)\n",
    "    print(classification_report(y_test, predictions, target_names=categories))\n",
    "    print(f\"SCORE: {clf.score(X_test, y_test)}\")\n",
    "    print('-'*100)"
   ]
  }
 ],
 "metadata": {
  "kernelspec": {
   "display_name": "Python 3",
   "language": "python",
   "name": "python3"
  },
  "language_info": {
   "codemirror_mode": {
    "name": "ipython",
    "version": 3
   },
   "file_extension": ".py",
   "mimetype": "text/x-python",
   "name": "python",
   "nbconvert_exporter": "python",
   "pygments_lexer": "ipython3",
   "version": "3.7.3"
  }
 },
 "nbformat": 4,
 "nbformat_minor": 2
}
