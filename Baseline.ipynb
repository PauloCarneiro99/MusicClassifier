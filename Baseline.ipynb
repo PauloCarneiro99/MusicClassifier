{
 "cells": [
  {
   "cell_type": "code",
   "execution_count": 1,
   "metadata": {},
   "outputs": [],
   "source": [
    "import pandas as pd\n",
    "import numpy as np\n",
    "from sklearn.feature_extraction.text import CountVectorizer\n",
    "from sklearn.model_selection import StratifiedShuffleSplit, ShuffleSplit\n",
    "from sklearn.naive_bayes import MultinomialNB\n",
    "from sklearn.metrics import classification_report\n",
    "from sklearn.linear_model import SGDClassifier\n",
    "from sklearn.ensemble import  RandomForestClassifier\n",
    "from sklearn.neighbors import KNeighborsClassifier\n",
    "from sklearn.gaussian_process import GaussianProcessClassifier\n",
    "from sklearn.gaussian_process.kernels import RBF\n",
    "from sklearn.tree import DecisionTreeClassifier"
   ]
  },
  {
   "cell_type": "code",
   "execution_count": 2,
   "metadata": {},
   "outputs": [
    {
     "data": {
      "text/html": [
       "<div>\n",
       "<style scoped>\n",
       "    .dataframe tbody tr th:only-of-type {\n",
       "        vertical-align: middle;\n",
       "    }\n",
       "\n",
       "    .dataframe tbody tr th {\n",
       "        vertical-align: top;\n",
       "    }\n",
       "\n",
       "    .dataframe thead th {\n",
       "        text-align: right;\n",
       "    }\n",
       "</style>\n",
       "<table border=\"1\" class=\"dataframe\">\n",
       "  <thead>\n",
       "    <tr style=\"text-align: right;\">\n",
       "      <th></th>\n",
       "      <th>author</th>\n",
       "      <th>data</th>\n",
       "      <th>lyrics</th>\n",
       "      <th>style</th>\n",
       "      <th>title</th>\n",
       "    </tr>\n",
       "  </thead>\n",
       "  <tbody>\n",
       "    <tr>\n",
       "      <th>0</th>\n",
       "      <td>Midian Lima</td>\n",
       "      <td>NaN</td>\n",
       "      <td>Amanheceu,Nada pesquei,Parecia ser apenas mais...</td>\n",
       "      <td>eletrônica</td>\n",
       "      <td>Não Pare</td>\n",
       "    </tr>\n",
       "    <tr>\n",
       "      <th>1</th>\n",
       "      <td>MC Doni</td>\n",
       "      <td>NaN</td>\n",
       "      <td>Não adianta tu se declarar,Romance, compromiss...</td>\n",
       "      <td>eletrônica</td>\n",
       "      <td>Te Amo Sem Compromisso (To Nem Aí)</td>\n",
       "    </tr>\n",
       "    <tr>\n",
       "      <th>2</th>\n",
       "      <td>Sebastián Yatra</td>\n",
       "      <td>NaN</td>\n",
       "      <td>I remember when I met you,I didn't wanna fall,...</td>\n",
       "      <td>eletrônica</td>\n",
       "      <td>My Only One (No Hay Nadie Más) (part. Isabela ...</td>\n",
       "    </tr>\n",
       "    <tr>\n",
       "      <th>3</th>\n",
       "      <td>Billie Eilish</td>\n",
       "      <td>NaN</td>\n",
       "      <td>Thought I found a way,Thought I found a way ou...</td>\n",
       "      <td>eletrônica</td>\n",
       "      <td>Lovely (feat. Khalid)</td>\n",
       "    </tr>\n",
       "    <tr>\n",
       "      <th>4</th>\n",
       "      <td>Ed Sheeran</td>\n",
       "      <td>NaN</td>\n",
       "      <td>I found a love for me,Darling, just dive right...</td>\n",
       "      <td>eletrônica</td>\n",
       "      <td>Perfect</td>\n",
       "    </tr>\n",
       "  </tbody>\n",
       "</table>\n",
       "</div>"
      ],
      "text/plain": [
       "            author  data                                             lyrics  \\\n",
       "0      Midian Lima   NaN  Amanheceu,Nada pesquei,Parecia ser apenas mais...   \n",
       "1          MC Doni   NaN  Não adianta tu se declarar,Romance, compromiss...   \n",
       "2  Sebastián Yatra   NaN  I remember when I met you,I didn't wanna fall,...   \n",
       "3    Billie Eilish   NaN  Thought I found a way,Thought I found a way ou...   \n",
       "4       Ed Sheeran   NaN  I found a love for me,Darling, just dive right...   \n",
       "\n",
       "        style                                              title  \n",
       "0  eletrônica                                           Não Pare  \n",
       "1  eletrônica                 Te Amo Sem Compromisso (To Nem Aí)  \n",
       "2  eletrônica  My Only One (No Hay Nadie Más) (part. Isabela ...  \n",
       "3  eletrônica                              Lovely (feat. Khalid)  \n",
       "4  eletrônica                                            Perfect  "
      ]
     },
     "execution_count": 2,
     "metadata": {},
     "output_type": "execute_result"
    }
   ],
   "source": [
    "df = pd.read_csv(\"./Dataset/dataset.csv\")\n",
    "df.head()"
   ]
  },
  {
   "cell_type": "markdown",
   "metadata": {},
   "source": [
    "## Reducing for 5 genres for runtime purpose"
   ]
  },
  {
   "cell_type": "code",
   "execution_count": 3,
   "metadata": {},
   "outputs": [
    {
     "name": "stderr",
     "output_type": "stream",
     "text": [
      "/Users/paulocarneiro/anaconda3/lib/python3.7/site-packages/pandas/core/computation/expressions.py:183: UserWarning: evaluating in Python space because the '+' operator is not supported by numexpr for the bool dtype, use '|' instead\n",
      "  .format(op=op_str, alt_op=unsupported[op_str]))\n"
     ]
    },
    {
     "data": {
      "text/plain": [
       "array(['pop', 'country', 'reggae', 'rock', 'indie'], dtype=object)"
      ]
     },
     "execution_count": 3,
     "metadata": {},
     "output_type": "execute_result"
    }
   ],
   "source": [
    "from functools import reduce\n",
    "import operator\n",
    "\n",
    "_id = reduce(\n",
    "    operator.add,\n",
    "    [\n",
    "        df[\"style\"] == \"pop\",\n",
    "        df[\"style\"] == \"rock\",\n",
    "        df[\"style\"] == \"reggae\",\n",
    "        df[\"style\"] == \"indie\",\n",
    "        df[\"style\"] == \"country\"\n",
    "    ]\n",
    ")\n",
    "df = df.loc[_id]\n",
    "df[\"style\"].unique()"
   ]
  },
  {
   "cell_type": "markdown",
   "metadata": {},
   "source": [
    "## Creating a bag of words"
   ]
  },
  {
   "cell_type": "code",
   "execution_count": 4,
   "metadata": {},
   "outputs": [
    {
     "data": {
      "text/plain": [
       "\"Michael Jackson\\nThe Way You Make Me Feel\\nHee! Hee!,Ooh!,Go on girl!,Aaow!,Hey, pretty baby with the high heels on,You give me fever like I've never, ever known,You're just a product of loveliness,I like the groove of your walk,,Your talk, your dress,I feel your fever from miles around,I'll pick you up in my car,And we'll paint the town,Just kiss me baby and tell me twice,That you're the one for me,The way you make me feel,(The way you make me feel),You really turn me on,(You really turn me on),You knock me off of my feet,(You knock me off of my feet),My lonely days are gone,(My lonely days are gone),I like the feeling you're giving me,Just hold me baby and I'm in ecstasy,Oh I'll be working from nine to five,To buy you things to keep you by my side,I never felt so in love before,Just promise baby, you'll love me forever more,I swear I'm keeping you satisfied,'Cause you're the one for me,The way you make me feel,(The way you make me feel),You really turn me on,(You really turn me on),You knock me off of my feet,(You knock me off of my feet),My lonely days are gone,(My lonely days are gone),Go on girl!,Go on! Hee! Hee! Aaow!,Go on girl!,I never felt so in love before,I promise baby, you'll love me forevermore,I swear I'm keeping you satisfied,'Cause you're the one for me...,The way you make me feel,(The way you make me feel),You really turn me on,(You really turn me on),You knock me off of my feet,(You knock me off of my feet),My lonely days are gone,(My lonely days are gone),Ain't nobody's business,,Ain't nobody's business,(The way you make me fell),Ain't nobody's business,,Ain't nobody's business,But mine and my baby,(You really turn me on) Hee hee!,(You knock me off of my feet) Hee hee! Ooh!,(My lonely days are gone),Give it to me, give me some time,(The way you make me feel),Come on be my girl, I wanna be with mine,(You really turn me on),Ain't nobody's business,(You knock me off of my feet),Ain't nobody's business, but mine and my baby's,Go on girl! Aaow!,(My lonely days are gone),Hee hee! Aaow!,Chika, chika,Chika, chika, chika,Go on girl! - Hee hee!,(The way you make me feel),Hee hee hee!,(You really turn me on),(You knock me off of my feet),(My lonely days are gone),Give it to me, give me some time...\""
      ]
     },
     "execution_count": 4,
     "metadata": {},
     "output_type": "execute_result"
    }
   ],
   "source": [
    "styles_unique = df[\"style\"].unique()\n",
    "styles = df[\"style\"]\n",
    "\n",
    "\n",
    "bag_of_words = []\n",
    "for author, lyrics, title in zip(df[\"author\"], df[\"lyrics\"], df[\"title\"]):\n",
    "    if author and lyrics and title: #avoiding empty and NaN fields\n",
    "        bag_of_words.append(\"\\n\".join([str(author),str(title),str(lyrics)]))\n",
    "        \n",
    "bag_of_words[0]"
   ]
  },
  {
   "cell_type": "markdown",
   "metadata": {},
   "source": [
    "## Runing Classifiers"
   ]
  },
  {
   "cell_type": "code",
   "execution_count": 5,
   "metadata": {},
   "outputs": [],
   "source": [
    "vectorizer = CountVectorizer(\n",
    "    min_df=10,\n",
    "    lowercase=True,\n",
    "    strip_accents=\"unicode\",\n",
    "    stop_words=\"english\",\n",
    "    ngram_range=(2,2)\n",
    ")\n",
    "vectors = vectorizer.fit_transform(bag_of_words)"
   ]
  },
  {
   "cell_type": "code",
   "execution_count": 6,
   "metadata": {},
   "outputs": [],
   "source": [
    "# spliting data for training and for testing\n",
    "sss = ShuffleSplit(n_splits=1, test_size=0.3)"
   ]
  },
  {
   "cell_type": "code",
   "execution_count": 7,
   "metadata": {},
   "outputs": [],
   "source": [
    "classifiers = {\n",
    "    \"Naive Bayes\": MultinomialNB(alpha=1),\n",
    "    \"SGCD\" : SGDClassifier(),\n",
    "    \"Random Forest\": RandomForestClassifier(),\n",
    "    \"KNeighborsClassifier\" : KNeighborsClassifier(3),\n",
    "    \"DecisionTreeClassifier\": DecisionTreeClassifier(max_depth=5),\n",
    "}"
   ]
  },
  {
   "cell_type": "code",
   "execution_count": 8,
   "metadata": {},
   "outputs": [
    {
     "name": "stdout",
     "output_type": "stream",
     "text": [
      "=========== Naive Bayes =========\n",
      "              precision    recall  f1-score   support\n",
      "\n",
      "     country       0.46      0.80      0.59       304\n",
      "       indie       0.46      0.35      0.40       284\n",
      "         pop       0.42      0.38      0.40       255\n",
      "      reggae       0.56      0.59      0.58       316\n",
      "        rock       0.33      0.12      0.17       221\n",
      "\n",
      "   micro avg       0.47      0.47      0.47      1380\n",
      "   macro avg       0.45      0.45      0.43      1380\n",
      "weighted avg       0.46      0.47      0.44      1380\n",
      "\n",
      "SCORE: 0.4717391304347826\n",
      "----------------------------------------------------------------------------------------------------\n",
      "=========== SGCD =========\n",
      "              precision    recall  f1-score   support\n",
      "\n",
      "     country       0.56      0.61      0.58       304\n",
      "       indie       0.45      0.44      0.45       284\n",
      "         pop       0.42      0.47      0.44       255\n",
      "      reggae       0.59      0.56      0.58       316\n",
      "        rock       0.32      0.29      0.31       221\n",
      "\n",
      "   micro avg       0.48      0.48      0.48      1380\n",
      "   macro avg       0.47      0.47      0.47      1380\n",
      "weighted avg       0.48      0.48      0.48      1380\n",
      "\n",
      "SCORE: 0.48405797101449277\n",
      "----------------------------------------------------------------------------------------------------\n",
      "=========== Random Forest =========\n"
     ]
    },
    {
     "name": "stderr",
     "output_type": "stream",
     "text": [
      "/Users/paulocarneiro/anaconda3/lib/python3.7/site-packages/sklearn/linear_model/stochastic_gradient.py:166: FutureWarning: max_iter and tol parameters have been added in SGDClassifier in 0.19. If both are left unset, they default to max_iter=5 and tol=None. If tol is not None, max_iter defaults to max_iter=1000. From 0.21, default max_iter will be 1000, and default tol will be 1e-3.\n",
      "  FutureWarning)\n",
      "/Users/paulocarneiro/anaconda3/lib/python3.7/site-packages/sklearn/ensemble/forest.py:246: FutureWarning: The default value of n_estimators will change from 10 in version 0.20 to 100 in 0.22.\n",
      "  \"10 in version 0.20 to 100 in 0.22.\", FutureWarning)\n"
     ]
    },
    {
     "name": "stdout",
     "output_type": "stream",
     "text": [
      "              precision    recall  f1-score   support\n",
      "\n",
      "     country       0.71      0.70      0.70       304\n",
      "       indie       0.57      0.54      0.56       284\n",
      "         pop       0.59      0.51      0.55       255\n",
      "      reggae       0.64      0.69      0.66       316\n",
      "        rock       0.41      0.47      0.44       221\n",
      "\n",
      "   micro avg       0.59      0.59      0.59      1380\n",
      "   macro avg       0.59      0.58      0.58      1380\n",
      "weighted avg       0.60      0.59      0.59      1380\n",
      "\n",
      "SCORE: 0.5927536231884057\n",
      "----------------------------------------------------------------------------------------------------\n",
      "=========== KNeighborsClassifier =========\n",
      "              precision    recall  f1-score   support\n",
      "\n",
      "     country       0.34      0.44      0.38       304\n",
      "       indie       0.23      0.49      0.32       284\n",
      "         pop       0.39      0.13      0.19       255\n",
      "      reggae       0.51      0.37      0.43       316\n",
      "        rock       0.20      0.06      0.10       221\n",
      "\n",
      "   micro avg       0.32      0.32      0.32      1380\n",
      "   macro avg       0.33      0.30      0.28      1380\n",
      "weighted avg       0.34      0.32      0.30      1380\n",
      "\n",
      "SCORE: 0.3173913043478261\n",
      "----------------------------------------------------------------------------------------------------\n",
      "=========== DecisionTreeClassifier =========\n",
      "              precision    recall  f1-score   support\n",
      "\n",
      "     country       1.00      0.12      0.21       304\n",
      "       indie       1.00      0.13      0.22       284\n",
      "         pop       0.20      1.00      0.33       255\n",
      "      reggae       1.00      0.10      0.19       316\n",
      "        rock       0.00      0.00      0.00       221\n",
      "\n",
      "   micro avg       0.26      0.26      0.26      1380\n",
      "   macro avg       0.64      0.27      0.19      1380\n",
      "weighted avg       0.69      0.26      0.20      1380\n",
      "\n",
      "SCORE: 0.26014492753623186\n",
      "----------------------------------------------------------------------------------------------------\n"
     ]
    },
    {
     "name": "stderr",
     "output_type": "stream",
     "text": [
      "/Users/paulocarneiro/anaconda3/lib/python3.7/site-packages/sklearn/metrics/classification.py:1143: UndefinedMetricWarning: Precision and F-score are ill-defined and being set to 0.0 in labels with no predicted samples.\n",
      "  'precision', 'predicted', average, warn_for)\n"
     ]
    }
   ],
   "source": [
    "labels = np.array(styles.tolist())\n",
    "for train_index, test_index in sss.split(vectors, labels):\n",
    "    X_train, X_test = vectors[train_index], vectors[test_index]\n",
    "    y_train, y_test = labels[train_index], labels[test_index]\n",
    "\n",
    "    categories = np.unique(labels[test_index]).tolist()\n",
    "    \n",
    "    # instanciamos o classificador\n",
    "    for classifier_name, classifier in classifiers.items():\n",
    "        print(f\"=========== {classifier_name} =========\")\n",
    "        clf = classifier\n",
    "        # colocamos os nossos dados de treino\n",
    "        clf.fit(X_train, y_train)\n",
    "        # medimos sua acurácia com os dados de teste\n",
    "        predictions = clf.predict(X_test)\n",
    "        print(classification_report(y_test, predictions, target_names=categories))\n",
    "        print(f\"SCORE: {clf.score(X_test, y_test)}\")\n",
    "        print('-'*100)"
   ]
  }
 ],
 "metadata": {
  "kernelspec": {
   "display_name": "Python 3",
   "language": "python",
   "name": "python3"
  },
  "language_info": {
   "codemirror_mode": {
    "name": "ipython",
    "version": 3
   },
   "file_extension": ".py",
   "mimetype": "text/x-python",
   "name": "python",
   "nbconvert_exporter": "python",
   "pygments_lexer": "ipython3",
   "version": "3.7.3"
  }
 },
 "nbformat": 4,
 "nbformat_minor": 2
}
