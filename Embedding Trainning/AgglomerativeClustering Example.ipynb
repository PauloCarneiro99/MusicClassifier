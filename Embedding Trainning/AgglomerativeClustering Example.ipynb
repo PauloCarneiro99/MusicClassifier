{
 "cells": [
  {
   "cell_type": "code",
   "execution_count": 1,
   "metadata": {},
   "outputs": [],
   "source": [
    "from gensim.models import Word2Vec\n",
    "from sklearn.cluster import AgglomerativeClustering\n",
    "from sklearn.metrics.pairwise import cosine_distances"
   ]
  },
  {
   "cell_type": "code",
   "execution_count": 2,
   "metadata": {},
   "outputs": [],
   "source": [
    "sentences = [['this', 'is', 'the', 'good', 'machine', 'learning', 'book'],\n",
    "            ['this', 'is',  'another', 'book'],\n",
    "            ['one', 'more', 'book'],\n",
    "            ['this', 'is', 'the', 'new', 'post'],\n",
    "            ['this', 'is', 'about', 'machine', 'learning', 'post'],  \n",
    "            ['and', 'this', 'is', 'the', 'last', 'post']]\n",
    "\n",
    "model = Word2Vec(sentences, min_count=1)"
   ]
  },
  {
   "cell_type": "code",
   "execution_count": 3,
   "metadata": {},
   "outputs": [
    {
     "name": "stderr",
     "output_type": "stream",
     "text": [
      "/Users/paulocarneiro/MusicClassifier/venv/lib/python3.7/site-packages/ipykernel_launcher.py:1: DeprecationWarning: Call to deprecated `__getitem__` (Method will be removed in 4.0.0, use self.wv.__getitem__() instead).\n",
      "  \"\"\"Entry point for launching an IPython kernel.\n"
     ]
    },
    {
     "data": {
      "text/plain": [
       "array([11,  9, 12,  7, 14, 13, 10,  5,  8,  4,  3,  6,  2,  1,  0])"
      ]
     },
     "execution_count": 3,
     "metadata": {},
     "output_type": "execute_result"
    }
   ],
   "source": [
    "X = model[model.wv.vocab]\n",
    "agglomerative = AgglomerativeClustering(\n",
    "    n_clusters=None, affinity=\"cosine\", linkage=\"complete\", distance_threshold=0.3\n",
    ")\n",
    "agglomerative.fit_predict(X)"
   ]
  },
  {
   "cell_type": "code",
   "execution_count": 4,
   "metadata": {},
   "outputs": [
    {
     "name": "stdout",
     "output_type": "stream",
     "text": [
      "this : 11\n",
      "is : 9\n",
      "the : 12\n",
      "good : 7\n",
      "machine : 14\n",
      "learning : 13\n",
      "book : 10\n",
      "another : 5\n",
      "one : 8\n",
      "more : 4\n",
      "new : 3\n",
      "post : 6\n",
      "about : 2\n",
      "and : 1\n",
      "last : 0\n"
     ]
    }
   ],
   "source": [
    "labels = list(model.wv.vocab)\n",
    "for cluster_n, aspect in zip(agglomerative.labels_, labels):\n",
    "    print(aspect,\":\" ,cluster_n)"
   ]
  },
  {
   "cell_type": "code",
   "execution_count": 5,
   "metadata": {},
   "outputs": [
    {
     "name": "stdout",
     "output_type": "stream",
     "text": [
      "=========== Cluster 0 ========== \n",
      "last\n",
      "=========== Cluster 1 ========== \n",
      "and\n",
      "=========== Cluster 2 ========== \n",
      "about\n",
      "=========== Cluster 3 ========== \n",
      "new\n",
      "=========== Cluster 4 ========== \n",
      "more\n",
      "=========== Cluster 5 ========== \n",
      "another\n",
      "=========== Cluster 6 ========== \n",
      "post\n",
      "=========== Cluster 7 ========== \n",
      "good\n",
      "=========== Cluster 8 ========== \n",
      "one\n",
      "=========== Cluster 9 ========== \n",
      "is\n",
      "=========== Cluster 10 ========== \n",
      "book\n",
      "=========== Cluster 11 ========== \n",
      "this\n",
      "=========== Cluster 12 ========== \n",
      "the\n",
      "=========== Cluster 13 ========== \n",
      "learning\n"
     ]
    }
   ],
   "source": [
    "import numpy as np\n",
    "\n",
    "new_array = np.asarray(agglomerative.labels_)\n",
    "num_cluster = np.max(new_array)\n",
    "for i in range(num_cluster):\n",
    "    ids_ = np.where(new_array == i)\n",
    "    print(f\"=========== Cluster {i} ========== \")\n",
    "    for ids in ids_[0]:\n",
    "        print(labels[ids])"
   ]
  }
 ],
 "metadata": {
  "kernelspec": {
   "display_name": "Python project env",
   "language": "python",
   "name": "venv"
  },
  "language_info": {
   "codemirror_mode": {
    "name": "ipython",
    "version": 3
   },
   "file_extension": ".py",
   "mimetype": "text/x-python",
   "name": "python",
   "nbconvert_exporter": "python",
   "pygments_lexer": "ipython3",
   "version": "3.7.3"
  }
 },
 "nbformat": 4,
 "nbformat_minor": 2
}
