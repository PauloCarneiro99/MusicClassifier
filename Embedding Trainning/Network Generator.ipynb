{
 "cells": [
  {
   "cell_type": "code",
   "execution_count": 1,
   "metadata": {},
   "outputs": [],
   "source": [
    "import pandas as pd\n",
    "import string\n",
    "import nltk\n",
    "from nltk.corpus import stopwords\n",
    "from nltk.tokenize import word_tokenize"
   ]
  },
  {
   "cell_type": "code",
   "execution_count": 2,
   "metadata": {},
   "outputs": [],
   "source": [
    "english_stop_words =  set(stopwords.words('english'))\n",
    "portuguese_stop_words =  set(stopwords.words('portuguese'))\n",
    "spanish_stop_words =  set(stopwords.words('spanish'))"
   ]
  },
  {
   "cell_type": "code",
   "execution_count": 3,
   "metadata": {},
   "outputs": [
    {
     "data": {
      "text/html": [
       "<div>\n",
       "<style scoped>\n",
       "    .dataframe tbody tr th:only-of-type {\n",
       "        vertical-align: middle;\n",
       "    }\n",
       "\n",
       "    .dataframe tbody tr th {\n",
       "        vertical-align: top;\n",
       "    }\n",
       "\n",
       "    .dataframe thead th {\n",
       "        text-align: right;\n",
       "    }\n",
       "</style>\n",
       "<table border=\"1\" class=\"dataframe\">\n",
       "  <thead>\n",
       "    <tr style=\"text-align: right;\">\n",
       "      <th></th>\n",
       "      <th>author</th>\n",
       "      <th>data</th>\n",
       "      <th>lyrics</th>\n",
       "      <th>style</th>\n",
       "      <th>title</th>\n",
       "    </tr>\n",
       "  </thead>\n",
       "  <tbody>\n",
       "    <tr>\n",
       "      <th>0</th>\n",
       "      <td>Midian Lima</td>\n",
       "      <td>NaN</td>\n",
       "      <td>Amanheceu,Nada pesquei,Parecia ser apenas mais...</td>\n",
       "      <td>eletrônica</td>\n",
       "      <td>Não Pare</td>\n",
       "    </tr>\n",
       "    <tr>\n",
       "      <th>1</th>\n",
       "      <td>MC Doni</td>\n",
       "      <td>NaN</td>\n",
       "      <td>Não adianta tu se declarar,Romance, compromiss...</td>\n",
       "      <td>eletrônica</td>\n",
       "      <td>Te Amo Sem Compromisso (To Nem Aí)</td>\n",
       "    </tr>\n",
       "    <tr>\n",
       "      <th>2</th>\n",
       "      <td>Sebastián Yatra</td>\n",
       "      <td>NaN</td>\n",
       "      <td>I remember when I met you,I didn't wanna fall,...</td>\n",
       "      <td>eletrônica</td>\n",
       "      <td>My Only One (No Hay Nadie Más) (part. Isabela ...</td>\n",
       "    </tr>\n",
       "    <tr>\n",
       "      <th>3</th>\n",
       "      <td>Billie Eilish</td>\n",
       "      <td>NaN</td>\n",
       "      <td>Thought I found a way,Thought I found a way ou...</td>\n",
       "      <td>eletrônica</td>\n",
       "      <td>Lovely (feat. Khalid)</td>\n",
       "    </tr>\n",
       "    <tr>\n",
       "      <th>4</th>\n",
       "      <td>Ed Sheeran</td>\n",
       "      <td>NaN</td>\n",
       "      <td>I found a love for me,Darling, just dive right...</td>\n",
       "      <td>eletrônica</td>\n",
       "      <td>Perfect</td>\n",
       "    </tr>\n",
       "  </tbody>\n",
       "</table>\n",
       "</div>"
      ],
      "text/plain": [
       "            author  data                                             lyrics  \\\n",
       "0      Midian Lima   NaN  Amanheceu,Nada pesquei,Parecia ser apenas mais...   \n",
       "1          MC Doni   NaN  Não adianta tu se declarar,Romance, compromiss...   \n",
       "2  Sebastián Yatra   NaN  I remember when I met you,I didn't wanna fall,...   \n",
       "3    Billie Eilish   NaN  Thought I found a way,Thought I found a way ou...   \n",
       "4       Ed Sheeran   NaN  I found a love for me,Darling, just dive right...   \n",
       "\n",
       "        style                                              title  \n",
       "0  eletrônica                                           Não Pare  \n",
       "1  eletrônica                 Te Amo Sem Compromisso (To Nem Aí)  \n",
       "2  eletrônica  My Only One (No Hay Nadie Más) (part. Isabela ...  \n",
       "3  eletrônica                              Lovely (feat. Khalid)  \n",
       "4  eletrônica                                            Perfect  "
      ]
     },
     "execution_count": 3,
     "metadata": {},
     "output_type": "execute_result"
    }
   ],
   "source": [
    "df = pd.read_csv(\"../dataset.csv\")\n",
    "\n",
    "network = {}\n",
    "weight = 1\n",
    "\n",
    "df.head()"
   ]
  },
  {
   "cell_type": "code",
   "execution_count": 20,
   "metadata": {},
   "outputs": [],
   "source": [
    "def clean(lyrics):\n",
    "    try:\n",
    "        #removing string puntuaction\n",
    "        for punctuation in string.punctuation:\n",
    "            lyrics = lyrics.replace(punctuation, \" \")\n",
    "            \n",
    "        lyrics = lyrics.replace(\"  \", \" \")\n",
    "\n",
    "        #removing string stop_words (english, spanish, portuguese)\n",
    "        tokens = word_tokenize(lyrics.lower())\n",
    "        cleaned_tokens = [\n",
    "            w for w in tokens \n",
    "                if w not in english_stop_words and\n",
    "                w not in spanish_stop_words and \n",
    "                w not in portuguese_stop_words\n",
    "        ]\n",
    "\n",
    "        return cleaned_tokens\n",
    "    except Exception as e:\n",
    "        print(e)\n",
    "        return None"
   ]
  },
  {
   "cell_type": "code",
   "execution_count": 10,
   "metadata": {},
   "outputs": [],
   "source": [
    "def update_network(network, weight, lyrics):\n",
    "    for index in range(len(lyrics) - 1):\n",
    "        if lyrics[index] not in network:\n",
    "            network[lyrics[index]] = {}\n",
    "        network[lyrics[index]][lyrics[index+1]] = weight"
   ]
  },
  {
   "cell_type": "code",
   "execution_count": 21,
   "metadata": {},
   "outputs": [],
   "source": [
    "for lyrics in df[\"lyrics\"]:\n",
    "    if isinstance(lyrics,str):\n",
    "        lyrics_token = clean(lyrics)\n",
    "        update_network(network, weight, lyrics_token)"
   ]
  },
  {
   "cell_type": "code",
   "execution_count": 22,
   "metadata": {},
   "outputs": [
    {
     "data": {
      "text/plain": [
       "745342"
      ]
     },
     "execution_count": 22,
     "metadata": {},
     "output_type": "execute_result"
    }
   ],
   "source": [
    "len(network)"
   ]
  },
  {
   "cell_type": "code",
   "execution_count": 23,
   "metadata": {},
   "outputs": [],
   "source": [
    "with open(\"network.csv\", \"w\") as f:\n",
    "    for i in network:\n",
    "        aux = network[i]\n",
    "        for j in aux:\n",
    "            f.write(i + \"\\t\" + j + \"\\t\" + str(aux[j]) + \"\\n\")"
   ]
  }
 ],
 "metadata": {
  "kernelspec": {
   "display_name": "Python 3",
   "language": "python",
   "name": "python3"
  },
  "language_info": {
   "codemirror_mode": {
    "name": "ipython",
    "version": 3
   },
   "file_extension": ".py",
   "mimetype": "text/x-python",
   "name": "python",
   "nbconvert_exporter": "python",
   "pygments_lexer": "ipython3",
   "version": "3.7.3"
  }
 },
 "nbformat": 4,
 "nbformat_minor": 2
}
