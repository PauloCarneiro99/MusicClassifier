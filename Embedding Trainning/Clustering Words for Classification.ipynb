{
 "cells": [
  {
   "cell_type": "code",
   "execution_count": 1,
   "metadata": {},
   "outputs": [],
   "source": [
    "import pandas as pd\n",
    "import numpy as np\n",
    "import random\n",
    "import nltk\n",
    "import string\n",
    "from gensim.models import Word2Vec\n",
    "from nltk.cluster import KMeansClusterer\n",
    "from sklearn import cluster\n",
    "from sklearn import metrics"
   ]
  },
  {
   "cell_type": "code",
   "execution_count": 2,
   "metadata": {},
   "outputs": [
    {
     "data": {
      "text/html": [
       "<div>\n",
       "<style scoped>\n",
       "    .dataframe tbody tr th:only-of-type {\n",
       "        vertical-align: middle;\n",
       "    }\n",
       "\n",
       "    .dataframe tbody tr th {\n",
       "        vertical-align: top;\n",
       "    }\n",
       "\n",
       "    .dataframe thead th {\n",
       "        text-align: right;\n",
       "    }\n",
       "</style>\n",
       "<table border=\"1\" class=\"dataframe\">\n",
       "  <thead>\n",
       "    <tr style=\"text-align: right;\">\n",
       "      <th></th>\n",
       "      <th>author</th>\n",
       "      <th>lyrics</th>\n",
       "      <th>style</th>\n",
       "      <th>title</th>\n",
       "    </tr>\n",
       "  </thead>\n",
       "  <tbody>\n",
       "    <tr>\n",
       "      <th>0</th>\n",
       "      <td>Midian Lima</td>\n",
       "      <td>Amanheceu,Nada pesquei,Parecia ser apenas mais...</td>\n",
       "      <td>eletrônica</td>\n",
       "      <td>Não Pare</td>\n",
       "    </tr>\n",
       "    <tr>\n",
       "      <th>1</th>\n",
       "      <td>MC Doni</td>\n",
       "      <td>Não adianta tu se declarar,Romance, compromiss...</td>\n",
       "      <td>eletrônica</td>\n",
       "      <td>Te Amo Sem Compromisso (To Nem Aí)</td>\n",
       "    </tr>\n",
       "    <tr>\n",
       "      <th>2</th>\n",
       "      <td>Sebastián Yatra</td>\n",
       "      <td>I remember when I met you,I didn't wanna fall,...</td>\n",
       "      <td>eletrônica</td>\n",
       "      <td>My Only One (No Hay Nadie Más) (part. Isabela ...</td>\n",
       "    </tr>\n",
       "    <tr>\n",
       "      <th>3</th>\n",
       "      <td>Billie Eilish</td>\n",
       "      <td>Thought I found a way,Thought I found a way ou...</td>\n",
       "      <td>eletrônica</td>\n",
       "      <td>Lovely (feat. Khalid)</td>\n",
       "    </tr>\n",
       "    <tr>\n",
       "      <th>4</th>\n",
       "      <td>Ed Sheeran</td>\n",
       "      <td>I found a love for me,Darling, just dive right...</td>\n",
       "      <td>eletrônica</td>\n",
       "      <td>Perfect</td>\n",
       "    </tr>\n",
       "  </tbody>\n",
       "</table>\n",
       "</div>"
      ],
      "text/plain": [
       "            author                                             lyrics  \\\n",
       "0      Midian Lima  Amanheceu,Nada pesquei,Parecia ser apenas mais...   \n",
       "1          MC Doni  Não adianta tu se declarar,Romance, compromiss...   \n",
       "2  Sebastián Yatra  I remember when I met you,I didn't wanna fall,...   \n",
       "3    Billie Eilish  Thought I found a way,Thought I found a way ou...   \n",
       "4       Ed Sheeran  I found a love for me,Darling, just dive right...   \n",
       "\n",
       "        style                                              title  \n",
       "0  eletrônica                                           Não Pare  \n",
       "1  eletrônica                 Te Amo Sem Compromisso (To Nem Aí)  \n",
       "2  eletrônica  My Only One (No Hay Nadie Más) (part. Isabela ...  \n",
       "3  eletrônica                              Lovely (feat. Khalid)  \n",
       "4  eletrônica                                            Perfect  "
      ]
     },
     "execution_count": 2,
     "metadata": {},
     "output_type": "execute_result"
    }
   ],
   "source": [
    "df = pd.read_csv(\"../Dataset/dataset.csv\")\n",
    "df = df.drop(columns=\"data\")\n",
    "df.head()"
   ]
  },
  {
   "cell_type": "code",
   "execution_count": 3,
   "metadata": {},
   "outputs": [
    {
     "data": {
      "text/plain": [
       "array(['eletrônica', 'cumbia', 'zouk', 'pop', 'zamba', 'bolero',\n",
       "       'post-rock', 'alternativo', 'brega', 'country', 'blues', 'dance',\n",
       "       'disco', 'cuarteto', 'trova', 'soul', 'salsa', 'ska', 'reggaeton',\n",
       "       'rockabilly', 'reggae', 'tango', 'regional', 'rock', 'samba',\n",
       "       'tecnopop', 'sertanejo', 'power-pop', 'ranchera', 'mpb',\n",
       "       'mariachi', 'industrial', 'infantil', 'indie', 'house',\n",
       "       'instrumental', 'jazz', 'pagode', 'mambo', 'psicodelia',\n",
       "       'merengue', 'hardcore', 'grunge', 'funk', 'folk', 'emocore',\n",
       "       'fado'], dtype=object)"
      ]
     },
     "execution_count": 3,
     "metadata": {},
     "output_type": "execute_result"
    }
   ],
   "source": [
    "df[\"style\"].unique()"
   ]
  },
  {
   "cell_type": "code",
   "execution_count": 4,
   "metadata": {},
   "outputs": [],
   "source": [
    "def clean_string(sentence):\n",
    "    if not isinstance(sentence, str):\n",
    "        return \"\"\n",
    "    for p in string.punctuation:\n",
    "        sentence = sentence.replace(p, \" \")\n",
    "    sentence = sentence.replace(\"  \", \" \")\n",
    "    return sentence.lower()"
   ]
  },
  {
   "cell_type": "code",
   "execution_count": 5,
   "metadata": {},
   "outputs": [],
   "source": [
    "row = df.iloc[0]\n",
    "tokens = []\n",
    "# for index, row in df.iterrows():\n",
    "tokens.append(nltk.word_tokenize(clean_string(row[\"lyrics\"])) +  nltk.word_tokenize(row[\"title\"]))\n",
    "model = Word2Vec(tokens, min_count=1)"
   ]
  },
  {
   "cell_type": "code",
   "execution_count": 6,
   "metadata": {},
   "outputs": [
    {
     "data": {
      "text/plain": [
       "92"
      ]
     },
     "execution_count": 6,
     "metadata": {},
     "output_type": "execute_result"
    }
   ],
   "source": [
    "len(model.wv.vocab)"
   ]
  },
  {
   "cell_type": "code",
   "execution_count": 7,
   "metadata": {},
   "outputs": [
    {
     "name": "stderr",
     "output_type": "stream",
     "text": [
      "/Users/paulocarneiro/MusicClassifier/venv/lib/python3.7/site-packages/ipykernel_launcher.py:1: DeprecationWarning: Call to deprecated `__getitem__` (Method will be removed in 4.0.0, use self.wv.__getitem__() instead).\n",
      "  \"\"\"Entry point for launching an IPython kernel.\n"
     ]
    }
   ],
   "source": [
    "X = model[model.wv.vocab]"
   ]
  },
  {
   "cell_type": "markdown",
   "metadata": {},
   "source": [
    "## Tunning the number of cluster of the k-means algorithm\n",
    "\n",
    "Following this [article](https://blog.cambridgespark.com/how-to-determine-the-optimal-number-of-clusters-for-k-means-clustering-14f27070048f)"
   ]
  },
  {
   "cell_type": "code",
   "execution_count": 8,
   "metadata": {},
   "outputs": [],
   "source": [
    "import matplotlib.pyplot as plt\n",
    "from sklearn.preprocessing import MinMaxScaler"
   ]
  },
  {
   "cell_type": "code",
   "execution_count": 9,
   "metadata": {},
   "outputs": [
    {
     "name": "stdout",
     "output_type": "stream",
     "text": [
      "----- Clustering for k = 1 -----\n",
      "----- Clustering for k = 21 -----\n",
      "----- Clustering for k = 41 -----\n",
      "----- Clustering for k = 61 -----\n",
      "----- Clustering for k = 81 -----\n"
     ]
    }
   ],
   "source": [
    "mms = MinMaxScaler()\n",
    "mms.fit(X)\n",
    "data_transformed = mms.transform(X)\n",
    "\n",
    "Sum_of_squared_distances = []\n",
    "\n",
    "K = range(1,int(len(model.wv.vocab) - 1), 20)\n",
    "for k in K:\n",
    "    print(f\"----- Clustering for k = {k} -----\")\n",
    "    km = cluster.KMeans(n_clusters=k)\n",
    "    km = km.fit(data_transformed)\n",
    "    Sum_of_squared_distances.append(km.inertia_)"
   ]
  },
  {
   "cell_type": "code",
   "execution_count": 10,
   "metadata": {},
   "outputs": [
    {
     "data": {
      "image/png": "[encoded data removed]",
      "text/plain": [
       "<Figure size 432x288 with 1 Axes>"
      ]
     },
     "metadata": {
      "needs_background": "light"
     },
     "output_type": "display_data"
    }
   ],
   "source": [
    "plt.plot(K, Sum_of_squared_distances, 'bx-')\n",
    "plt.xlabel('k')\n",
    "plt.ylabel('Sum_of_squared_distances')\n",
    "plt.title('Elbow Method For Optimal k')\n",
    "plt.show()"
   ]
  },
  {
   "cell_type": "markdown",
   "metadata": {},
   "source": [
    "Choose the k where sum_of_squared_distance tends to zero\n",
    "\n",
    "In this case k = 86\n",
    "\n",
    "## Clustering the dataset"
   ]
  },
  {
   "cell_type": "code",
   "execution_count": 11,
   "metadata": {},
   "outputs": [],
   "source": [
    "NUM_CLUSTERS = 86"
   ]
  },
  {
   "cell_type": "code",
   "execution_count": 12,
   "metadata": {},
   "outputs": [],
   "source": [
    "kmeans = cluster.KMeans(n_clusters=NUM_CLUSTERS, random_state=0)\n",
    "kmeans.fit(X)\n",
    "\n",
    "labels = kmeans.labels_\n",
    "centroids = kmeans.cluster_centers_"
   ]
  },
  {
   "cell_type": "markdown",
   "metadata": {},
   "source": [
    "## Saving the clusters in a json file"
   ]
  },
  {
   "cell_type": "code",
   "execution_count": 13,
   "metadata": {},
   "outputs": [
    {
     "name": "stdout",
     "output_type": "stream",
     "text": [
      "=========== Cluster 0 ========== \n",
      "e\n",
      "=========== Cluster 1 ========== \n",
      "vergonha\n",
      "=========== Cluster 2 ========== \n",
      "chegará\n",
      "=========== Cluster 3 ========== \n",
      "noite\n",
      "vai\n",
      "=========== Cluster 4 ========== \n",
      "colheu\n",
      "=========== Cluster 5 ========== \n",
      "que\n",
      "=========== Cluster 6 ========== \n",
      "você\n",
      "=========== Cluster 7 ========== \n",
      "parecia\n",
      "está\n",
      "=========== Cluster 8 ========== \n",
      "ele\n",
      "entregou\n",
      "=========== Cluster 9 ========== \n",
      "volte\n",
      "=========== Cluster 10 ========== \n",
      "esperar\n",
      "=========== Cluster 11 ========== \n",
      "lhe\n",
      "=========== Cluster 12 ========== \n",
      "não\n",
      "=========== Cluster 13 ========== \n",
      "já\n",
      "=========== Cluster 14 ========== \n",
      "outro\n",
      "=========== Cluster 15 ========== \n",
      "mais\n",
      "=========== Cluster 16 ========== \n",
      "sabe\n",
      "cenário\n",
      "=========== Cluster 17 ========== \n",
      "dia\n",
      "=========== Cluster 18 ========== \n",
      "como\n",
      "=========== Cluster 19 ========== \n",
      "todas\n",
      "=========== Cluster 20 ========== \n",
      "tua\n",
      "=========== Cluster 21 ========== \n",
      "faltar\n",
      "=========== Cluster 22 ========== \n",
      "eu\n",
      "=========== Cluster 23 ========== \n",
      "seja\n",
      "=========== Cluster 24 ========== \n",
      "rede\n",
      "=========== Cluster 25 ========== \n",
      "Não\n",
      "=========== Cluster 26 ========== \n",
      "ó\n",
      "=========== Cluster 27 ========== \n",
      "tempo\n",
      "=========== Cluster 28 ========== \n",
      "quem\n",
      "hora\n",
      "=========== Cluster 29 ========== \n",
      "um\n",
      "=========== Cluster 30 ========== \n",
      "prosseguir\n",
      "=========== Cluster 31 ========== \n",
      "vou\n",
      "contemplou\n",
      "=========== Cluster 32 ========== \n",
      "seu\n",
      "=========== Cluster 33 ========== \n",
      "passou\n",
      "=========== Cluster 34 ========== \n",
      "alto\n",
      "=========== Cluster 35 ========== \n",
      "amanheceu\n",
      "=========== Cluster 36 ========== \n",
      "tuas\n",
      "=========== Cluster 37 ========== \n",
      "estrutura\n",
      "=========== Cluster 38 ========== \n",
      "mar\n",
      "=========== Cluster 39 ========== \n",
      "há\n",
      "=========== Cluster 40 ========== \n",
      "mudar\n",
      "=========== Cluster 41 ========== \n",
      "pares\n",
      "=========== Cluster 42 ========== \n",
      "no\n",
      "=========== Cluster 43 ========== \n",
      "pegue\n",
      "=========== Cluster 44 ========== \n",
      "lágrimas\n",
      "=========== Cluster 45 ========== \n",
      "de\n",
      "=========== Cluster 46 ========== \n",
      "chegou\n",
      "=========== Cluster 47 ========== \n",
      "sem\n",
      "=========== Cluster 48 ========== \n",
      "mandou\n",
      "=========== Cluster 49 ========== \n",
      "nada\n",
      "=========== Cluster 50 ========== \n",
      "fazendo\n",
      "=========== Cluster 51 ========== \n",
      "quando\n",
      "=========== Cluster 52 ========== \n",
      "pra\n",
      "=========== Cluster 53 ========== \n",
      "Pare\n",
      "=========== Cluster 54 ========== \n",
      "para\n",
      "=========== Cluster 55 ========== \n",
      "qualquer\n",
      "=========== Cluster 56 ========== \n",
      "teu\n",
      "=========== Cluster 57 ========== \n",
      "largar\n",
      "=========== Cluster 58 ========== \n",
      "te\n",
      "=========== Cluster 59 ========== \n",
      "desanimado\n",
      "=========== Cluster 60 ========== \n",
      "da\n",
      "=========== Cluster 61 ========== \n",
      "esse\n",
      "=========== Cluster 62 ========== \n",
      "deus\n",
      "=========== Cluster 63 ========== \n",
      "a\n",
      "=========== Cluster 64 ========== \n",
      "decidida\n",
      "=========== Cluster 65 ========== \n",
      "cansado\n",
      "=========== Cluster 66 ========== \n",
      "o\n",
      "=========== Cluster 67 ========== \n",
      "caminhar\n",
      "=========== Cluster 68 ========== \n",
      "forças\n",
      "=========== Cluster 69 ========== \n",
      "ser\n",
      "=========== Cluster 70 ========== \n",
      "parar\n",
      "=========== Cluster 71 ========== \n",
      "é\n",
      "=========== Cluster 72 ========== \n",
      "falar\n",
      "=========== Cluster 73 ========== \n",
      "vendo\n",
      "=========== Cluster 74 ========== \n",
      "ti\n",
      "=========== Cluster 75 ========== \n",
      "conhece\n",
      "=========== Cluster 76 ========== \n",
      "estava\n",
      "=========== Cluster 77 ========== \n",
      "mesmo\n",
      "=========== Cluster 78 ========== \n",
      "lugar\n",
      "=========== Cluster 79 ========== \n",
      "difícil\n",
      "=========== Cluster 80 ========== \n",
      "apenas\n",
      "=========== Cluster 81 ========== \n",
      "pesquei\n",
      "=========== Cluster 82 ========== \n",
      "sei\n",
      "=========== Cluster 83 ========== \n",
      "filho\n",
      "=========== Cluster 84 ========== \n",
      "tudo\n",
      "=========== Cluster 85 ========== \n",
      "honrar\n"
     ]
    }
   ],
   "source": [
    "words = list(model.wv.vocab)\n",
    "new_array = np.asarray(labels)\n",
    "clusters = {}\n",
    "clusters[\"clusters\"] = {}\n",
    "clusters[\"replace\"] = {}\n",
    "for i in range(NUM_CLUSTERS):\n",
    "    ids_ = np.where(new_array == i)\n",
    "    print(f\"=========== Cluster {i} ========== \")\n",
    "    for ids in ids_[0]:\n",
    "        if i not in clusters[\"replace\"]:\n",
    "            clusters[\"replace\"][i] = words[ids]\n",
    "        print(words[ids])\n",
    "        clusters[\"clusters\"][words[ids]] = i\n",
    "        \n",
    "import json\n",
    "with open(\"clusters.json\", \"w\") as f:\n",
    "    json.dump(clusters,f)"
   ]
  }
 ],
 "metadata": {
  "kernelspec": {
   "display_name": "Python project env",
   "language": "python",
   "name": "venv"
  },
  "language_info": {
   "codemirror_mode": {
    "name": "ipython",
    "version": 3
   },
   "file_extension": ".py",
   "mimetype": "text/x-python",
   "name": "python",
   "nbconvert_exporter": "python",
   "pygments_lexer": "ipython3",
   "version": "3.7.3"
  }
 },
 "nbformat": 4,
 "nbformat_minor": 2
}
