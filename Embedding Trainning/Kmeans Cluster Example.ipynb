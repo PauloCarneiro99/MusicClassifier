{
 "cells": [
  {
   "cell_type": "code",
   "execution_count": 2,
   "metadata": {},
   "outputs": [],
   "source": [
    "from gensim.models import Word2Vec\n",
    "from nltk.cluster import KMeansClusterer\n",
    "import nltk"
   ]
  },
  {
   "cell_type": "code",
   "execution_count": 4,
   "metadata": {},
   "outputs": [],
   "source": [
    "NUM_CLUSTERS=3"
   ]
  },
  {
   "cell_type": "code",
   "execution_count": 5,
   "metadata": {},
   "outputs": [],
   "source": [
    "sentences = [['this', 'is', 'the', 'good', 'machine', 'learning', 'book'],\n",
    "            ['this', 'is',  'another', 'book'],\n",
    "            ['one', 'more', 'book'],\n",
    "            ['this', 'is', 'the', 'new', 'post'],\n",
    "            ['this', 'is', 'about', 'machine', 'learning', 'post'],  \n",
    "            ['and', 'this', 'is', 'the', 'last', 'post']]\n",
    "\n",
    "model = Word2Vec(sentences, min_count=1)"
   ]
  },
  {
   "cell_type": "code",
   "execution_count": 6,
   "metadata": {},
   "outputs": [
    {
     "data": {
      "text/plain": [
       "15"
      ]
     },
     "execution_count": 6,
     "metadata": {},
     "output_type": "execute_result"
    }
   ],
   "source": [
    "len(model.wv.vocab)"
   ]
  },
  {
   "cell_type": "code",
   "execution_count": 7,
   "metadata": {},
   "outputs": [
    {
     "name": "stdout",
     "output_type": "stream",
     "text": [
      "[0, 2, 0, 2, 0, 0, 2, 1, 1, 2, 1, 1, 2, 2, 0]\n"
     ]
    },
    {
     "name": "stderr",
     "output_type": "stream",
     "text": [
      "/Users/paulocarneiro/MusicClassifier/venv/lib/python3.7/site-packages/ipykernel_launcher.py:1: DeprecationWarning: Call to deprecated `__getitem__` (Method will be removed in 4.0.0, use self.wv.__getitem__() instead).\n",
      "  \"\"\"Entry point for launching an IPython kernel.\n"
     ]
    }
   ],
   "source": [
    "X = model[model.wv.vocab]\n",
    "kclusterer = KMeansClusterer(NUM_CLUSTERS, distance=nltk.cluster.util.cosine_distance, repeats=25)\n",
    "assigned_clusters = kclusterer.cluster(X, assign_clusters=True)\n",
    "print (assigned_clusters)"
   ]
  },
  {
   "cell_type": "code",
   "execution_count": 8,
   "metadata": {},
   "outputs": [
    {
     "data": {
      "text/plain": [
       "array([[-1.0587435e-03, -4.9665454e-04, -3.3118932e-03, ...,\n",
       "         2.0552119e-03, -4.2704167e-03, -3.5867214e-03],\n",
       "       [ 1.5670890e-03, -4.8825126e-03,  1.2366680e-03, ...,\n",
       "         1.7086802e-03,  1.7769117e-04, -3.4752211e-03],\n",
       "       [-2.1342076e-03, -3.0468067e-03,  2.7297682e-03, ...,\n",
       "         3.9190124e-03,  1.7805800e-03, -3.4185874e-04],\n",
       "       ...,\n",
       "       [-4.4427873e-04, -3.8269791e-03, -1.6265066e-03, ...,\n",
       "         2.4371059e-03,  1.3847159e-03,  3.3607506e-03],\n",
       "       [-4.9317796e-03, -9.9511445e-04, -4.9011172e-03, ...,\n",
       "         3.7716960e-05,  4.8783822e-03, -1.0543317e-03],\n",
       "       [-3.7546381e-03,  2.0349664e-03, -2.1742807e-04, ...,\n",
       "         3.5581233e-03, -5.6750327e-04,  2.2545436e-03]], dtype=float32)"
      ]
     },
     "execution_count": 8,
     "metadata": {},
     "output_type": "execute_result"
    }
   ],
   "source": [
    "X"
   ]
  },
  {
   "cell_type": "code",
   "execution_count": 9,
   "metadata": {},
   "outputs": [
    {
     "name": "stdout",
     "output_type": "stream",
     "text": [
      "this:0\n",
      "is:2\n",
      "the:0\n",
      "good:2\n",
      "machine:0\n",
      "learning:0\n",
      "book:2\n",
      "another:1\n",
      "one:1\n",
      "more:2\n",
      "new:1\n",
      "post:1\n",
      "about:2\n",
      "and:2\n",
      "last:0\n"
     ]
    }
   ],
   "source": [
    "words = list(model.wv.vocab)\n",
    "for i, word in enumerate(words):  \n",
    "    print (word + \":\" + str(assigned_clusters[i]))"
   ]
  },
  {
   "cell_type": "code",
   "execution_count": 11,
   "metadata": {},
   "outputs": [
    {
     "name": "stdout",
     "output_type": "stream",
     "text": [
      "=========== Cluster 0 ========== \n",
      "this\n",
      "the\n",
      "machine\n",
      "learning\n",
      "last\n",
      "=========== Cluster 1 ========== \n",
      "another\n",
      "one\n",
      "new\n",
      "post\n",
      "=========== Cluster 2 ========== \n",
      "is\n",
      "good\n",
      "book\n",
      "more\n",
      "about\n",
      "and\n"
     ]
    }
   ],
   "source": [
    "import numpy as np\n",
    "\n",
    "new_array = np.asarray(assigned_clusters)\n",
    "for i in range(NUM_CLUSTERS):\n",
    "    ids_ = np.where(new_array == i)\n",
    "    print(f\"=========== Cluster {i} ========== \")\n",
    "    for ids in ids_[0]:\n",
    "        print(words[ids])"
   ]
  },
  {
   "cell_type": "markdown",
   "metadata": {},
   "source": [
    "## Using sklearn"
   ]
  },
  {
   "cell_type": "code",
   "execution_count": 12,
   "metadata": {},
   "outputs": [],
   "source": [
    "from sklearn import cluster\n",
    "from sklearn import metrics\n",
    "kmeans = cluster.KMeans(n_clusters=NUM_CLUSTERS)\n",
    "kmeans.fit(X)\n",
    " \n",
    "labels = kmeans.labels_\n",
    "centroids = kmeans.cluster_centers_\n",
    "\n",
    "silhouette_score = metrics.silhouette_score(X, labels, metric='euclidean')"
   ]
  },
  {
   "cell_type": "code",
   "execution_count": 18,
   "metadata": {},
   "outputs": [
    {
     "name": "stdout",
     "output_type": "stream",
     "text": [
      "=========== Cluster 0 ========== \n",
      "machine\n",
      "another\n",
      "new\n",
      "post\n",
      "last\n",
      "=========== Cluster 1 ========== \n",
      "this\n",
      "is\n",
      "the\n",
      "good\n",
      "book\n",
      "more\n",
      "about\n",
      "=========== Cluster 2 ========== \n",
      "learning\n",
      "one\n",
      "and\n"
     ]
    }
   ],
   "source": [
    "import numpy as np\n",
    "\n",
    "new_array = np.asarray(labels)\n",
    "for i in range(NUM_CLUSTERS):\n",
    "    ids_ = np.where(new_array == i)\n",
    "    print(f\"=========== Cluster {i} ========== \")\n",
    "    for ids in ids_[0]:\n",
    "        print(words[ids])"
   ]
  }
 ],
 "metadata": {
  "kernelspec": {
   "display_name": "Python project env",
   "language": "python",
   "name": "venv"
  },
  "language_info": {
   "codemirror_mode": {
    "name": "ipython",
    "version": 3
   },
   "file_extension": ".py",
   "mimetype": "text/x-python",
   "name": "python",
   "nbconvert_exporter": "python",
   "pygments_lexer": "ipython3",
   "version": "3.7.3"
  }
 },
 "nbformat": 4,
 "nbformat_minor": 2
}
